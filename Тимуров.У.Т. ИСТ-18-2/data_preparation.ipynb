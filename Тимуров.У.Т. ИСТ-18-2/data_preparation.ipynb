{
  "cells":[
    {
      "cell_type":"code",
      "source":[
        "# Загрузка зависимостей\n",
        "import numpy as np\n",
        "import pandas as pd\n",
        "import matplotlib.pyplot as plt\n",
        "from sklearn.preprocessing import StandardScaler\n",
        "from sklearn.preprocessing import MinMaxScaler"
      ],
      "execution_count":1,
      "outputs":[
        
      ],
      "metadata":{
        
      }
    },
    {
      "cell_type":"code",
      "source":[
        "# Загрузка и анализ набора данных\n",
        "water_dataset = pd.read_csv('Набор_5_токсичность_воды.csv',  sep=';')\n",
        "water_dataset.head(10)"
      ],
      "execution_count":2,
      "outputs":[
        {
          "data":{
            "text\/html":[
              "<div>\n",
              "<style scoped>\n",
              "    .dataframe tbody tr th:only-of-type {\n",
              "        vertical-align: middle;\n",
              "    }\n",
              "\n",
              "    .dataframe tbody tr th {\n",
              "        vertical-align: top;\n",
              "    }\n",
              "\n",
              "    .dataframe thead th {\n",
              "        text-align: right;\n",
              "    }\n",
              "<\/style>\n",
              "<table border=\"1\" class=\"dataframe\">\n",
              "  <thead>\n",
              "    <tr style=\"text-align: right;\">\n",
              "      <th><\/th>\n",
              "      <th>tpsa<\/th>\n",
              "      <th>saacc<\/th>\n",
              "      <th>h-050<\/th>\n",
              "      <th>mlogp<\/th>\n",
              "      <th>rdchi<\/th>\n",
              "      <th>gats1p<\/th>\n",
              "      <th>nn<\/th>\n",
              "      <th>c-040<\/th>\n",
              "      <th>lc50<\/th>\n",
              "    <\/tr>\n",
              "  <\/thead>\n",
              "  <tbody>\n",
              "    <tr>\n",
              "      <th>0<\/th>\n",
              "      <td>0.00<\/td>\n",
              "      <td>0.000<\/td>\n",
              "      <td>0<\/td>\n",
              "      <td>2.419<\/td>\n",
              "      <td>1.225<\/td>\n",
              "      <td>0.667<\/td>\n",
              "      <td>0<\/td>\n",
              "      <td>0<\/td>\n",
              "      <td>3.740<\/td>\n",
              "    <\/tr>\n",
              "    <tr>\n",
              "      <th>1<\/th>\n",
              "      <td>0.00<\/td>\n",
              "      <td>0.000<\/td>\n",
              "      <td>0<\/td>\n",
              "      <td>2.638<\/td>\n",
              "      <td>1.401<\/td>\n",
              "      <td>0.632<\/td>\n",
              "      <td>0<\/td>\n",
              "      <td>0<\/td>\n",
              "      <td>4.330<\/td>\n",
              "    <\/tr>\n",
              "    <tr>\n",
              "      <th>2<\/th>\n",
              "      <td>9.23<\/td>\n",
              "      <td>11.000<\/td>\n",
              "      <td>0<\/td>\n",
              "      <td>5.799<\/td>\n",
              "      <td>2.930<\/td>\n",
              "      <td>0.486<\/td>\n",
              "      <td>0<\/td>\n",
              "      <td>0<\/td>\n",
              "      <td>7.019<\/td>\n",
              "    <\/tr>\n",
              "    <tr>\n",
              "      <th>3<\/th>\n",
              "      <td>9.23<\/td>\n",
              "      <td>11.000<\/td>\n",
              "      <td>0<\/td>\n",
              "      <td>5.453<\/td>\n",
              "      <td>2.887<\/td>\n",
              "      <td>0.495<\/td>\n",
              "      <td>0<\/td>\n",
              "      <td>0<\/td>\n",
              "      <td>6.723<\/td>\n",
              "    <\/tr>\n",
              "    <tr>\n",
              "      <th>4<\/th>\n",
              "      <td>9.23<\/td>\n",
              "      <td>11.000<\/td>\n",
              "      <td>0<\/td>\n",
              "      <td>4.068<\/td>\n",
              "      <td>2.758<\/td>\n",
              "      <td>0.695<\/td>\n",
              "      <td>0<\/td>\n",
              "      <td>0<\/td>\n",
              "      <td>5.979<\/td>\n",
              "    <\/tr>\n",
              "    <tr>\n",
              "      <th>5<\/th>\n",
              "      <td>215.34<\/td>\n",
              "      <td>327.629<\/td>\n",
              "      <td>3<\/td>\n",
              "      <td>0.189<\/td>\n",
              "      <td>4.677<\/td>\n",
              "      <td>1.333<\/td>\n",
              "      <td>0<\/td>\n",
              "      <td>4<\/td>\n",
              "      <td>6.064<\/td>\n",
              "    <\/tr>\n",
              "    <tr>\n",
              "      <th>6<\/th>\n",
              "      <td>9.23<\/td>\n",
              "      <td>11.000<\/td>\n",
              "      <td>0<\/td>\n",
              "      <td>2.723<\/td>\n",
              "      <td>2.321<\/td>\n",
              "      <td>1.165<\/td>\n",
              "      <td>0<\/td>\n",
              "      <td>0<\/td>\n",
              "      <td>7.337<\/td>\n",
              "    <\/tr>\n",
              "    <tr>\n",
              "      <th>7<\/th>\n",
              "      <td>0.00<\/td>\n",
              "      <td>0.000<\/td>\n",
              "      <td>0<\/td>\n",
              "      <td>3.267<\/td>\n",
              "      <td>2.318<\/td>\n",
              "      <td>0.963<\/td>\n",
              "      <td>0<\/td>\n",
              "      <td>0<\/td>\n",
              "      <td>4.100<\/td>\n",
              "    <\/tr>\n",
              "    <tr>\n",
              "      <th>8<\/th>\n",
              "      <td>0.00<\/td>\n",
              "      <td>0.000<\/td>\n",
              "      <td>0<\/td>\n",
              "      <td>2.067<\/td>\n",
              "      <td>1.800<\/td>\n",
              "      <td>1.250<\/td>\n",
              "      <td>0<\/td>\n",
              "      <td>0<\/td>\n",
              "      <td>3.941<\/td>\n",
              "    <\/tr>\n",
              "    <tr>\n",
              "      <th>9<\/th>\n",
              "      <td>0.00<\/td>\n",
              "      <td>0.000<\/td>\n",
              "      <td>0<\/td>\n",
              "      <td>2.746<\/td>\n",
              "      <td>1.667<\/td>\n",
              "      <td>1.400<\/td>\n",
              "      <td>0<\/td>\n",
              "      <td>0<\/td>\n",
              "      <td>3.809<\/td>\n",
              "    <\/tr>\n",
              "  <\/tbody>\n",
              "<\/table>\n",
              "<\/div>"
            ]
          },
          "metadata":{
            
          },
          "output_type":"display_data"
        }
      ],
      "metadata":{
        
      }
    },
    {
      "cell_type":"code",
      "source":[
        "for i in water_dataset:\n",
        "    if i not in ['mlogp', 'rdchi', 'gats1p', 'lc50']:\n",
        "        water_dataset[i] = water_dataset[i].replace(0, water_dataset[i].mean())\n",
        "water_dataset.head(10)"
      ],
      "execution_count":3,
      "outputs":[
        {
          "data":{
            "text\/html":[
              "<div>\n",
              "<style scoped>\n",
              "    .dataframe tbody tr th:only-of-type {\n",
              "        vertical-align: middle;\n",
              "    }\n",
              "\n",
              "    .dataframe tbody tr th {\n",
              "        vertical-align: top;\n",
              "    }\n",
              "\n",
              "    .dataframe thead th {\n",
              "        text-align: right;\n",
              "    }\n",
              "<\/style>\n",
              "<table border=\"1\" class=\"dataframe\">\n",
              "  <thead>\n",
              "    <tr style=\"text-align: right;\">\n",
              "      <th><\/th>\n",
              "      <th>tpsa<\/th>\n",
              "      <th>saacc<\/th>\n",
              "      <th>h-050<\/th>\n",
              "      <th>mlogp<\/th>\n",
              "      <th>rdchi<\/th>\n",
              "      <th>gats1p<\/th>\n",
              "      <th>nn<\/th>\n",
              "      <th>c-040<\/th>\n",
              "      <th>lc50<\/th>\n",
              "    <\/tr>\n",
              "  <\/thead>\n",
              "  <tbody>\n",
              "    <tr>\n",
              "      <th>0<\/th>\n",
              "      <td>48.47293<\/td>\n",
              "      <td>58.869018<\/td>\n",
              "      <td>0.937729<\/td>\n",
              "      <td>2.419<\/td>\n",
              "      <td>1.225<\/td>\n",
              "      <td>0.667<\/td>\n",
              "      <td>1.003663<\/td>\n",
              "      <td>0.35348<\/td>\n",
              "      <td>3.740<\/td>\n",
              "    <\/tr>\n",
              "    <tr>\n",
              "      <th>1<\/th>\n",
              "      <td>48.47293<\/td>\n",
              "      <td>58.869018<\/td>\n",
              "      <td>0.937729<\/td>\n",
              "      <td>2.638<\/td>\n",
              "      <td>1.401<\/td>\n",
              "      <td>0.632<\/td>\n",
              "      <td>1.003663<\/td>\n",
              "      <td>0.35348<\/td>\n",
              "      <td>4.330<\/td>\n",
              "    <\/tr>\n",
              "    <tr>\n",
              "      <th>2<\/th>\n",
              "      <td>9.23000<\/td>\n",
              "      <td>11.000000<\/td>\n",
              "      <td>0.937729<\/td>\n",
              "      <td>5.799<\/td>\n",
              "      <td>2.930<\/td>\n",
              "      <td>0.486<\/td>\n",
              "      <td>1.003663<\/td>\n",
              "      <td>0.35348<\/td>\n",
              "      <td>7.019<\/td>\n",
              "    <\/tr>\n",
              "    <tr>\n",
              "      <th>3<\/th>\n",
              "      <td>9.23000<\/td>\n",
              "      <td>11.000000<\/td>\n",
              "      <td>0.937729<\/td>\n",
              "      <td>5.453<\/td>\n",
              "      <td>2.887<\/td>\n",
              "      <td>0.495<\/td>\n",
              "      <td>1.003663<\/td>\n",
              "      <td>0.35348<\/td>\n",
              "      <td>6.723<\/td>\n",
              "    <\/tr>\n",
              "    <tr>\n",
              "      <th>4<\/th>\n",
              "      <td>9.23000<\/td>\n",
              "      <td>11.000000<\/td>\n",
              "      <td>0.937729<\/td>\n",
              "      <td>4.068<\/td>\n",
              "      <td>2.758<\/td>\n",
              "      <td>0.695<\/td>\n",
              "      <td>1.003663<\/td>\n",
              "      <td>0.35348<\/td>\n",
              "      <td>5.979<\/td>\n",
              "    <\/tr>\n",
              "    <tr>\n",
              "      <th>5<\/th>\n",
              "      <td>215.34000<\/td>\n",
              "      <td>327.629000<\/td>\n",
              "      <td>3.000000<\/td>\n",
              "      <td>0.189<\/td>\n",
              "      <td>4.677<\/td>\n",
              "      <td>1.333<\/td>\n",
              "      <td>1.003663<\/td>\n",
              "      <td>4.00000<\/td>\n",
              "      <td>6.064<\/td>\n",
              "    <\/tr>\n",
              "    <tr>\n",
              "      <th>6<\/th>\n",
              "      <td>9.23000<\/td>\n",
              "      <td>11.000000<\/td>\n",
              "      <td>0.937729<\/td>\n",
              "      <td>2.723<\/td>\n",
              "      <td>2.321<\/td>\n",
              "      <td>1.165<\/td>\n",
              "      <td>1.003663<\/td>\n",
              "      <td>0.35348<\/td>\n",
              "      <td>7.337<\/td>\n",
              "    <\/tr>\n",
              "    <tr>\n",
              "      <th>7<\/th>\n",
              "      <td>48.47293<\/td>\n",
              "      <td>58.869018<\/td>\n",
              "      <td>0.937729<\/td>\n",
              "      <td>3.267<\/td>\n",
              "      <td>2.318<\/td>\n",
              "      <td>0.963<\/td>\n",
              "      <td>1.003663<\/td>\n",
              "      <td>0.35348<\/td>\n",
              "      <td>4.100<\/td>\n",
              "    <\/tr>\n",
              "    <tr>\n",
              "      <th>8<\/th>\n",
              "      <td>48.47293<\/td>\n",
              "      <td>58.869018<\/td>\n",
              "      <td>0.937729<\/td>\n",
              "      <td>2.067<\/td>\n",
              "      <td>1.800<\/td>\n",
              "      <td>1.250<\/td>\n",
              "      <td>1.003663<\/td>\n",
              "      <td>0.35348<\/td>\n",
              "      <td>3.941<\/td>\n",
              "    <\/tr>\n",
              "    <tr>\n",
              "      <th>9<\/th>\n",
              "      <td>48.47293<\/td>\n",
              "      <td>58.869018<\/td>\n",
              "      <td>0.937729<\/td>\n",
              "      <td>2.746<\/td>\n",
              "      <td>1.667<\/td>\n",
              "      <td>1.400<\/td>\n",
              "      <td>1.003663<\/td>\n",
              "      <td>0.35348<\/td>\n",
              "      <td>3.809<\/td>\n",
              "    <\/tr>\n",
              "  <\/tbody>\n",
              "<\/table>\n",
              "<\/div>"
            ]
          },
          "metadata":{
            
          },
          "output_type":"display_data"
        }
      ],
      "metadata":{
        
      }
    },
    {
      "cell_type":"code",
      "source":[
        "# Создаем набор данных, в котором будут храниться обработанные данные\n",
        "dataset = pd.DataFrame()"
      ],
      "execution_count":4,
      "outputs":[
        
      ],
      "metadata":{
        
      }
    },
    {
      "cell_type":"code",
      "source":[
        "# обработка колонки \"tpsa\"\n",
        "data = water_dataset['tpsa']\n",
        "\n",
        "plt.hist(data, bins = 50)\n",
        "plt.show()"
      ],
      "execution_count":5,
      "outputs":[
        {
          "data":{
            "image\/png":"[encoded data removed]"
          },
          "metadata":{
            "image\/png":{
              "width":0,
              "height":0
            }
          },
          "output_type":"display_data"
        }
      ],
      "metadata":{
        
      }
    },
    {
      "cell_type":"code",
      "source":[
        "data = np.clip(data, 0, 140)\n",
        "plt.hist(data, bins = 50)\n",
        "plt.show()"
      ],
      "execution_count":6,
      "outputs":[
        {
          "data":{
            "image\/png":"[encoded data removed]"
          },
          "metadata":{
            "image\/png":{
              "width":0,
              "height":0
            }
          },
          "output_type":"display_data"
        }
      ],
      "metadata":{
        
      }
    },
    {
      "cell_type":"code",
      "source":[
        "plt.hist(data ** 0.5, bins = 50)\n",
        "plt.show()\n",
        "plt.hist(np.log(data), bins = 50)\n",
        "plt.show()"
      ],
      "execution_count":7,
      "outputs":[
        {
          "data":{
            "image\/png":"[encoded data removed]"
          },
          "metadata":{
            "image\/png":{
              "width":0,
              "height":0
            }
          },
          "output_type":"display_data"
        }
      ],
      "metadata":{
        
      }
    },
    {
      "cell_type":"code",
      "source":[
        "data = np.array(data**0.5).reshape(-1, 1)\n",
        "dataset['tpsa'] = MinMaxScaler().fit_transform(data).flatten() \n",
        "dataset.head(10)"
      ],
      "execution_count":8,
      "outputs":[
        {
          "data":{
            "text\/html":[
              "<div>\n",
              "<style scoped>\n",
              "    .dataframe tbody tr th:only-of-type {\n",
              "        vertical-align: middle;\n",
              "    }\n",
              "\n",
              "    .dataframe tbody tr th {\n",
              "        vertical-align: top;\n",
              "    }\n",
              "\n",
              "    .dataframe thead th {\n",
              "        text-align: right;\n",
              "    }\n",
              "<\/style>\n",
              "<table border=\"1\" class=\"dataframe\">\n",
              "  <thead>\n",
              "    <tr style=\"text-align: right;\">\n",
              "      <th><\/th>\n",
              "      <th>tpsa<\/th>\n",
              "    <\/tr>\n",
              "  <\/thead>\n",
              "  <tbody>\n",
              "    <tr>\n",
              "      <th>0<\/th>\n",
              "      <td>0.514570<\/td>\n",
              "    <\/tr>\n",
              "    <tr>\n",
              "      <th>1<\/th>\n",
              "      <td>0.514570<\/td>\n",
              "    <\/tr>\n",
              "    <tr>\n",
              "      <th>2<\/th>\n",
              "      <td>0.123412<\/td>\n",
              "    <\/tr>\n",
              "    <tr>\n",
              "      <th>3<\/th>\n",
              "      <td>0.123412<\/td>\n",
              "    <\/tr>\n",
              "    <tr>\n",
              "      <th>4<\/th>\n",
              "      <td>0.123412<\/td>\n",
              "    <\/tr>\n",
              "    <tr>\n",
              "      <th>5<\/th>\n",
              "      <td>1.000000<\/td>\n",
              "    <\/tr>\n",
              "    <tr>\n",
              "      <th>6<\/th>\n",
              "      <td>0.123412<\/td>\n",
              "    <\/tr>\n",
              "    <tr>\n",
              "      <th>7<\/th>\n",
              "      <td>0.514570<\/td>\n",
              "    <\/tr>\n",
              "    <tr>\n",
              "      <th>8<\/th>\n",
              "      <td>0.514570<\/td>\n",
              "    <\/tr>\n",
              "    <tr>\n",
              "      <th>9<\/th>\n",
              "      <td>0.514570<\/td>\n",
              "    <\/tr>\n",
              "  <\/tbody>\n",
              "<\/table>\n",
              "<\/div>"
            ]
          },
          "metadata":{
            
          },
          "output_type":"display_data"
        }
      ],
      "metadata":{
        
      }
    },
    {
      "cell_type":"code",
      "source":[
        "data = water_dataset['saacc']\n",
        "plt.hist(data, bins = 50)\n",
        "plt.show()"
      ],
      "execution_count":9,
      "outputs":[
        {
          "data":{
            "image\/png":"[encoded data removed]"
          },
          "metadata":{
            "image\/png":{
              "width":0,
              "height":0
            }
          },
          "output_type":"display_data"
        }
      ],
      "metadata":{
        
      }
    },
    {
      "cell_type":"code",
      "source":[
        "data = np.clip(data, 0, 260)\n",
        "plt.hist(data, bins = 50)\n",
        "plt.show()"
      ],
      "execution_count":10,
      "outputs":[
        {
          "data":{
            "image\/png":"[encoded data removed]"
          },
          "metadata":{
            "image\/png":{
              "width":0,
              "height":0
            }
          },
          "output_type":"display_data"
        }
      ],
      "metadata":{
        
      }
    },
    {
      "cell_type":"code",
      "source":[
        "plt.hist(data ** 0.5, bins = 50)\n",
        "plt.show()\n",
        "plt.hist(np.log(data), bins = 50)\n",
        "plt.show()"
      ],
      "execution_count":11,
      "outputs":[
        {
          "data":{
            "image\/png":"[encoded data removed]"
          },
          "metadata":{
            "image\/png":{
              "width":0,
              "height":0
            }
          },
          "output_type":"display_data"
        }
      ],
      "metadata":{
        
      }
    },
    {
      "cell_type":"code",
      "source":[
        "data = np.array(data**0.5).reshape(-1, 1)\n",
        "dataset['saacc'] = MinMaxScaler().fit_transform(data).flatten() \n",
        "dataset.head(10)"
      ],
      "execution_count":12,
      "outputs":[
        {
          "data":{
            "text\/html":[
              "<div>\n",
              "<style scoped>\n",
              "    .dataframe tbody tr th:only-of-type {\n",
              "        vertical-align: middle;\n",
              "    }\n",
              "\n",
              "    .dataframe tbody tr th {\n",
              "        vertical-align: top;\n",
              "    }\n",
              "\n",
              "    .dataframe thead th {\n",
              "        text-align: right;\n",
              "    }\n",
              "<\/style>\n",
              "<table border=\"1\" class=\"dataframe\">\n",
              "  <thead>\n",
              "    <tr style=\"text-align: right;\">\n",
              "      <th><\/th>\n",
              "      <th>tpsa<\/th>\n",
              "      <th>saacc<\/th>\n",
              "    <\/tr>\n",
              "  <\/thead>\n",
              "  <tbody>\n",
              "    <tr>\n",
              "      <th>0<\/th>\n",
              "      <td>0.514570<\/td>\n",
              "      <td>0.411306<\/td>\n",
              "    <\/tr>\n",
              "    <tr>\n",
              "      <th>1<\/th>\n",
              "      <td>0.514570<\/td>\n",
              "      <td>0.411306<\/td>\n",
              "    <\/tr>\n",
              "    <tr>\n",
              "      <th>2<\/th>\n",
              "      <td>0.123412<\/td>\n",
              "      <td>0.107901<\/td>\n",
              "    <\/tr>\n",
              "    <tr>\n",
              "      <th>3<\/th>\n",
              "      <td>0.123412<\/td>\n",
              "      <td>0.107901<\/td>\n",
              "    <\/tr>\n",
              "    <tr>\n",
              "      <th>4<\/th>\n",
              "      <td>0.123412<\/td>\n",
              "      <td>0.107901<\/td>\n",
              "    <\/tr>\n",
              "    <tr>\n",
              "      <th>5<\/th>\n",
              "      <td>1.000000<\/td>\n",
              "      <td>1.000000<\/td>\n",
              "    <\/tr>\n",
              "    <tr>\n",
              "      <th>6<\/th>\n",
              "      <td>0.123412<\/td>\n",
              "      <td>0.107901<\/td>\n",
              "    <\/tr>\n",
              "    <tr>\n",
              "      <th>7<\/th>\n",
              "      <td>0.514570<\/td>\n",
              "      <td>0.411306<\/td>\n",
              "    <\/tr>\n",
              "    <tr>\n",
              "      <th>8<\/th>\n",
              "      <td>0.514570<\/td>\n",
              "      <td>0.411306<\/td>\n",
              "    <\/tr>\n",
              "    <tr>\n",
              "      <th>9<\/th>\n",
              "      <td>0.514570<\/td>\n",
              "      <td>0.411306<\/td>\n",
              "    <\/tr>\n",
              "  <\/tbody>\n",
              "<\/table>\n",
              "<\/div>"
            ]
          },
          "metadata":{
            
          },
          "output_type":"display_data"
        }
      ],
      "metadata":{
        
      }
    },
    {
      "cell_type":"code",
      "source":[
        "data = water_dataset['h-050']\n",
        "plt.hist(data, bins = 50)\n",
        "plt.show()"
      ],
      "execution_count":13,
      "outputs":[
        {
          "data":{
            "image\/png":"[encoded data removed]"
          },
          "metadata":{
            "image\/png":{
              "width":0,
              "height":0
            }
          },
          "output_type":"display_data"
        }
      ],
      "metadata":{
        
      }
    },
    {
      "cell_type":"code",
      "source":[
        "data = np.clip(data, 0, 9)\n",
        "plt.hist(data, bins = 50)\n",
        "plt.show()"
      ],
      "execution_count":14,
      "outputs":[
        {
          "data":{
            "image\/png":"[encoded data removed]"
          },
          "metadata":{
            "image\/png":{
              "width":0,
              "height":0
            }
          },
          "output_type":"display_data"
        }
      ],
      "metadata":{
        
      }
    },
    {
      "cell_type":"code",
      "source":[
        "plt.hist(data ** 0.5, bins = 50)\n",
        "plt.show()\n",
        "plt.hist(np.log(data), bins = 50)\n",
        "plt.show()"
      ],
      "execution_count":15,
      "outputs":[
        {
          "data":{
            "image\/png":"[encoded data removed]"
          },
          "metadata":{
            "image\/png":{
              "width":0,
              "height":0
            }
          },
          "output_type":"display_data"
        }
      ],
      "metadata":{
        
      }
    },
    {
      "cell_type":"code",
      "source":[
        "data = np.array(data**0.5).reshape(-1, 1)\n",
        "dataset['h-050'] = MinMaxScaler().fit_transform(data).flatten() \n",
        "dataset.head(10)"
      ],
      "execution_count":16,
      "outputs":[
        {
          "data":{
            "text\/html":[
              "<div>\n",
              "<style scoped>\n",
              "    .dataframe tbody tr th:only-of-type {\n",
              "        vertical-align: middle;\n",
              "    }\n",
              "\n",
              "    .dataframe tbody tr th {\n",
              "        vertical-align: top;\n",
              "    }\n",
              "\n",
              "    .dataframe thead th {\n",
              "        text-align: right;\n",
              "    }\n",
              "<\/style>\n",
              "<table border=\"1\" class=\"dataframe\">\n",
              "  <thead>\n",
              "    <tr style=\"text-align: right;\">\n",
              "      <th><\/th>\n",
              "      <th>tpsa<\/th>\n",
              "      <th>saacc<\/th>\n",
              "      <th>h-050<\/th>\n",
              "    <\/tr>\n",
              "  <\/thead>\n",
              "  <tbody>\n",
              "    <tr>\n",
              "      <th>0<\/th>\n",
              "      <td>0.514570<\/td>\n",
              "      <td>0.411306<\/td>\n",
              "      <td>0.000000<\/td>\n",
              "    <\/tr>\n",
              "    <tr>\n",
              "      <th>1<\/th>\n",
              "      <td>0.514570<\/td>\n",
              "      <td>0.411306<\/td>\n",
              "      <td>0.000000<\/td>\n",
              "    <\/tr>\n",
              "    <tr>\n",
              "      <th>2<\/th>\n",
              "      <td>0.123412<\/td>\n",
              "      <td>0.107901<\/td>\n",
              "      <td>0.000000<\/td>\n",
              "    <\/tr>\n",
              "    <tr>\n",
              "      <th>3<\/th>\n",
              "      <td>0.123412<\/td>\n",
              "      <td>0.107901<\/td>\n",
              "      <td>0.000000<\/td>\n",
              "    <\/tr>\n",
              "    <tr>\n",
              "      <th>4<\/th>\n",
              "      <td>0.123412<\/td>\n",
              "      <td>0.107901<\/td>\n",
              "      <td>0.000000<\/td>\n",
              "    <\/tr>\n",
              "    <tr>\n",
              "      <th>5<\/th>\n",
              "      <td>1.000000<\/td>\n",
              "      <td>1.000000<\/td>\n",
              "      <td>0.375897<\/td>\n",
              "    <\/tr>\n",
              "    <tr>\n",
              "      <th>6<\/th>\n",
              "      <td>0.123412<\/td>\n",
              "      <td>0.107901<\/td>\n",
              "      <td>0.000000<\/td>\n",
              "    <\/tr>\n",
              "    <tr>\n",
              "      <th>7<\/th>\n",
              "      <td>0.514570<\/td>\n",
              "      <td>0.411306<\/td>\n",
              "      <td>0.000000<\/td>\n",
              "    <\/tr>\n",
              "    <tr>\n",
              "      <th>8<\/th>\n",
              "      <td>0.514570<\/td>\n",
              "      <td>0.411306<\/td>\n",
              "      <td>0.000000<\/td>\n",
              "    <\/tr>\n",
              "    <tr>\n",
              "      <th>9<\/th>\n",
              "      <td>0.514570<\/td>\n",
              "      <td>0.411306<\/td>\n",
              "      <td>0.000000<\/td>\n",
              "    <\/tr>\n",
              "  <\/tbody>\n",
              "<\/table>\n",
              "<\/div>"
            ]
          },
          "metadata":{
            
          },
          "output_type":"display_data"
        }
      ],
      "metadata":{
        
      }
    },
    {
      "cell_type":"code",
      "source":[
        "data = water_dataset['mlogp']\n",
        "plt.hist(data, bins = 50)\n",
        "plt.show()"
      ],
      "execution_count":17,
      "outputs":[
        {
          "data":{
            "image\/png":"[encoded data removed]"
          },
          "metadata":{
            "image\/png":{
              "width":0,
              "height":0
            }
          },
          "output_type":"display_data"
        }
      ],
      "metadata":{
        
      }
    },
    {
      "cell_type":"code",
      "source":[
        "data = np.clip(data, -1.5, 7)\n",
        "plt.hist(data, bins = 50)\n",
        "plt.show()"
      ],
      "execution_count":18,
      "outputs":[
        {
          "data":{
            "image\/png":"[encoded data removed]"
          },
          "metadata":{
            "image\/png":{
              "width":0,
              "height":0
            }
          },
          "output_type":"display_data"
        }
      ],
      "metadata":{
        
      }
    },
    {
      "cell_type":"code",
      "source":[
        "plt.hist(data**0.5, bins = 50)\n",
        "plt.show()"
      ],
      "execution_count":19,
      "outputs":[
        {
          "name":"stdout",
          "text":[
            "\/opt\/anaconda3\/envs\/datalore-user\/lib\/python3.7\/site-packages\/numpy\/lib\/histograms.py:839: RuntimeWarning: invalid value encountered in greater_equal\n",
            "  keep = (tmp_a >= first_edge)\n",
            "\/opt\/anaconda3\/envs\/datalore-user\/lib\/python3.7\/site-packages\/numpy\/lib\/histograms.py:840: RuntimeWarning: invalid value encountered in less_equal\n",
            "  keep &= (tmp_a <= last_edge)\n"
          ],
          "output_type":"stream"
        },
        {
          "data":{
            "image\/png":"[encoded data removed]"
          },
          "metadata":{
            "image\/png":{
              "width":0,
              "height":0
            }
          },
          "output_type":"display_data"
        }
      ],
      "metadata":{
        
      }
    },
    {
      "cell_type":"code",
      "source":[
        "data = np.array(data**0.5).reshape(-1, 1)\n",
        "dataset['mlogp'] = StandardScaler().fit_transform(data).flatten() \n",
        "dataset.head(10)"
      ],
      "execution_count":20,
      "outputs":[
        {
          "data":{
            "text\/html":[
              "<div>\n",
              "<style scoped>\n",
              "    .dataframe tbody tr th:only-of-type {\n",
              "        vertical-align: middle;\n",
              "    }\n",
              "\n",
              "    .dataframe tbody tr th {\n",
              "        vertical-align: top;\n",
              "    }\n",
              "\n",
              "    .dataframe thead th {\n",
              "        text-align: right;\n",
              "    }\n",
              "<\/style>\n",
              "<table border=\"1\" class=\"dataframe\">\n",
              "  <thead>\n",
              "    <tr style=\"text-align: right;\">\n",
              "      <th><\/th>\n",
              "      <th>tpsa<\/th>\n",
              "      <th>saacc<\/th>\n",
              "      <th>h-050<\/th>\n",
              "      <th>mlogp<\/th>\n",
              "    <\/tr>\n",
              "  <\/thead>\n",
              "  <tbody>\n",
              "    <tr>\n",
              "      <th>0<\/th>\n",
              "      <td>0.514570<\/td>\n",
              "      <td>0.411306<\/td>\n",
              "      <td>0.000000<\/td>\n",
              "      <td>0.019635<\/td>\n",
              "    <\/tr>\n",
              "    <tr>\n",
              "      <th>1<\/th>\n",
              "      <td>0.514570<\/td>\n",
              "      <td>0.411306<\/td>\n",
              "      <td>0.000000<\/td>\n",
              "      <td>0.159062<\/td>\n",
              "    <\/tr>\n",
              "    <tr>\n",
              "      <th>2<\/th>\n",
              "      <td>0.123412<\/td>\n",
              "      <td>0.107901<\/td>\n",
              "      <td>0.000000<\/td>\n",
              "      <td>1.745911<\/td>\n",
              "    <\/tr>\n",
              "    <tr>\n",
              "      <th>3<\/th>\n",
              "      <td>0.123412<\/td>\n",
              "      <td>0.107901<\/td>\n",
              "      <td>0.000000<\/td>\n",
              "      <td>1.598251<\/td>\n",
              "    <\/tr>\n",
              "    <tr>\n",
              "      <th>4<\/th>\n",
              "      <td>0.123412<\/td>\n",
              "      <td>0.107901<\/td>\n",
              "      <td>0.000000<\/td>\n",
              "      <td>0.954059<\/td>\n",
              "    <\/tr>\n",
              "    <tr>\n",
              "      <th>5<\/th>\n",
              "      <td>1.000000<\/td>\n",
              "      <td>1.000000<\/td>\n",
              "      <td>0.375897<\/td>\n",
              "      <td>-2.248683<\/td>\n",
              "    <\/tr>\n",
              "    <tr>\n",
              "      <th>6<\/th>\n",
              "      <td>0.123412<\/td>\n",
              "      <td>0.107901<\/td>\n",
              "      <td>0.000000<\/td>\n",
              "      <td>0.211611<\/td>\n",
              "    <\/tr>\n",
              "    <tr>\n",
              "      <th>7<\/th>\n",
              "      <td>0.514570<\/td>\n",
              "      <td>0.411306<\/td>\n",
              "      <td>0.000000<\/td>\n",
              "      <td>0.530092<\/td>\n",
              "    <\/tr>\n",
              "    <tr>\n",
              "      <th>8<\/th>\n",
              "      <td>0.514570<\/td>\n",
              "      <td>0.411306<\/td>\n",
              "      <td>0.000000<\/td>\n",
              "      <td>-0.218431<\/td>\n",
              "    <\/tr>\n",
              "    <tr>\n",
              "      <th>9<\/th>\n",
              "      <td>0.514570<\/td>\n",
              "      <td>0.411306<\/td>\n",
              "      <td>0.000000<\/td>\n",
              "      <td>0.225688<\/td>\n",
              "    <\/tr>\n",
              "  <\/tbody>\n",
              "<\/table>\n",
              "<\/div>"
            ]
          },
          "metadata":{
            
          },
          "output_type":"display_data"
        }
      ],
      "metadata":{
        
      }
    },
    {
      "cell_type":"code",
      "source":[
        "data = water_dataset['rdchi']\n",
        "plt.hist(data, bins = 50)\n",
        "plt.show()"
      ],
      "execution_count":21,
      "outputs":[
        {
          "data":{
            "image\/png":"[encoded data removed]"
          },
          "metadata":{
            "image\/png":{
              "width":0,
              "height":0
            }
          },
          "output_type":"display_data"
        }
      ],
      "metadata":{
        
      }
    },
    {
      "cell_type":"code",
      "source":[
        "data = np.clip(data, 1, 4.5)\n",
        "plt.hist(data, bins = 50)\n",
        "plt.show()"
      ],
      "execution_count":22,
      "outputs":[
        {
          "data":{
            "image\/png":"[encoded data removed]"
          },
          "metadata":{
            "image\/png":{
              "width":0,
              "height":0
            }
          },
          "output_type":"display_data"
        }
      ],
      "metadata":{
        
      }
    },
    {
      "cell_type":"code",
      "source":[
        "plt.hist(data ** 0.5, bins = 50)\n",
        "plt.show()\n",
        "plt.hist(np.log(data), bins = 50)\n",
        "plt.show()"
      ],
      "execution_count":23,
      "outputs":[
        {
          "data":{
            "image\/png":"[encoded data removed]"
          },
          "metadata":{
            "image\/png":{
              "width":0,
              "height":0
            }
          },
          "output_type":"display_data"
        }
      ],
      "metadata":{
        
      }
    },
    {
      "cell_type":"code",
      "source":[
        "data = np.array(data**0.5).reshape(-1, 1)\n",
        "dataset['rdchi'] = StandardScaler().fit_transform(data).flatten() \n",
        "dataset.head(10)"
      ],
      "execution_count":24,
      "outputs":[
        {
          "data":{
            "text\/html":[
              "<div>\n",
              "<style scoped>\n",
              "    .dataframe tbody tr th:only-of-type {\n",
              "        vertical-align: middle;\n",
              "    }\n",
              "\n",
              "    .dataframe tbody tr th {\n",
              "        vertical-align: top;\n",
              "    }\n",
              "\n",
              "    .dataframe thead th {\n",
              "        text-align: right;\n",
              "    }\n",
              "<\/style>\n",
              "<table border=\"1\" class=\"dataframe\">\n",
              "  <thead>\n",
              "    <tr style=\"text-align: right;\">\n",
              "      <th><\/th>\n",
              "      <th>tpsa<\/th>\n",
              "      <th>saacc<\/th>\n",
              "      <th>h-050<\/th>\n",
              "      <th>mlogp<\/th>\n",
              "      <th>rdchi<\/th>\n",
              "    <\/tr>\n",
              "  <\/thead>\n",
              "  <tbody>\n",
              "    <tr>\n",
              "      <th>0<\/th>\n",
              "      <td>0.514570<\/td>\n",
              "      <td>0.411306<\/td>\n",
              "      <td>0.000000<\/td>\n",
              "      <td>0.019635<\/td>\n",
              "      <td>-1.875809<\/td>\n",
              "    <\/tr>\n",
              "    <tr>\n",
              "      <th>1<\/th>\n",
              "      <td>0.514570<\/td>\n",
              "      <td>0.411306<\/td>\n",
              "      <td>0.000000<\/td>\n",
              "      <td>0.159062<\/td>\n",
              "      <td>-1.554684<\/td>\n",
              "    <\/tr>\n",
              "    <tr>\n",
              "      <th>2<\/th>\n",
              "      <td>0.123412<\/td>\n",
              "      <td>0.107901<\/td>\n",
              "      <td>0.000000<\/td>\n",
              "      <td>1.745911<\/td>\n",
              "      <td>0.652219<\/td>\n",
              "    <\/tr>\n",
              "    <tr>\n",
              "      <th>3<\/th>\n",
              "      <td>0.123412<\/td>\n",
              "      <td>0.107901<\/td>\n",
              "      <td>0.000000<\/td>\n",
              "      <td>1.598251<\/td>\n",
              "      <td>0.599535<\/td>\n",
              "    <\/tr>\n",
              "    <tr>\n",
              "      <th>4<\/th>\n",
              "      <td>0.123412<\/td>\n",
              "      <td>0.107901<\/td>\n",
              "      <td>0.000000<\/td>\n",
              "      <td>0.954059<\/td>\n",
              "      <td>0.439081<\/td>\n",
              "    <\/tr>\n",
              "    <tr>\n",
              "      <th>5<\/th>\n",
              "      <td>1.000000<\/td>\n",
              "      <td>1.000000<\/td>\n",
              "      <td>0.375897<\/td>\n",
              "      <td>-2.248683<\/td>\n",
              "      <td>2.363947<\/td>\n",
              "    <\/tr>\n",
              "    <tr>\n",
              "      <th>6<\/th>\n",
              "      <td>0.123412<\/td>\n",
              "      <td>0.107901<\/td>\n",
              "      <td>0.000000<\/td>\n",
              "      <td>0.211611<\/td>\n",
              "      <td>-0.134453<\/td>\n",
              "    <\/tr>\n",
              "    <tr>\n",
              "      <th>7<\/th>\n",
              "      <td>0.514570<\/td>\n",
              "      <td>0.411306<\/td>\n",
              "      <td>0.000000<\/td>\n",
              "      <td>0.530092<\/td>\n",
              "      <td>-0.138569<\/td>\n",
              "    <\/tr>\n",
              "    <tr>\n",
              "      <th>8<\/th>\n",
              "      <td>0.514570<\/td>\n",
              "      <td>0.411306<\/td>\n",
              "      <td>0.000000<\/td>\n",
              "      <td>-0.218431<\/td>\n",
              "      <td>-0.894383<\/td>\n",
              "    <\/tr>\n",
              "    <tr>\n",
              "      <th>9<\/th>\n",
              "      <td>0.514570<\/td>\n",
              "      <td>0.411306<\/td>\n",
              "      <td>0.000000<\/td>\n",
              "      <td>0.225688<\/td>\n",
              "      <td>-1.105498<\/td>\n",
              "    <\/tr>\n",
              "  <\/tbody>\n",
              "<\/table>\n",
              "<\/div>"
            ]
          },
          "metadata":{
            
          },
          "output_type":"display_data"
        }
      ],
      "metadata":{
        
      }
    },
    {
      "cell_type":"code",
      "source":[
        "data = water_dataset['gats1p']\n",
        "plt.hist(data, bins = 50)\n",
        "plt.show()"
      ],
      "execution_count":25,
      "outputs":[
        {
          "data":{
            "image\/png":"[encoded data removed]"
          },
          "metadata":{
            "image\/png":{
              "width":0,
              "height":0
            }
          },
          "output_type":"display_data"
        }
      ],
      "metadata":{
        
      }
    },
    {
      "cell_type":"code",
      "source":[
        "data = np.clip(data, 0.30, 2)\n",
        "plt.hist(data, bins = 50)\n",
        "plt.show()"
      ],
      "execution_count":26,
      "outputs":[
        {
          "data":{
            "image\/png":"[encoded data removed]"
          },
          "metadata":{
            "image\/png":{
              "width":0,
              "height":0
            }
          },
          "output_type":"display_data"
        }
      ],
      "metadata":{
        
      }
    },
    {
      "cell_type":"code",
      "source":[
        "plt.hist(data ** 0.5, bins = 50)\n",
        "plt.show()\n",
        "plt.hist(np.log(data), bins = 50)\n",
        "plt.show()"
      ],
      "execution_count":27,
      "outputs":[
        {
          "data":{
            "image\/png":"[encoded data removed]"
          },
          "metadata":{
            "image\/png":{
              "width":0,
              "height":0
            }
          },
          "output_type":"display_data"
        }
      ],
      "metadata":{
        
      }
    },
    {
      "cell_type":"code",
      "source":[
        "data = np.array(data**0.5).reshape(-1, 1)\n",
        "dataset['gats1p'] = StandardScaler().fit_transform(data).flatten() \n",
        "dataset.head(10)"
      ],
      "execution_count":28,
      "outputs":[
        {
          "data":{
            "text\/html":[
              "<div>\n",
              "<style scoped>\n",
              "    .dataframe tbody tr th:only-of-type {\n",
              "        vertical-align: middle;\n",
              "    }\n",
              "\n",
              "    .dataframe tbody tr th {\n",
              "        vertical-align: top;\n",
              "    }\n",
              "\n",
              "    .dataframe thead th {\n",
              "        text-align: right;\n",
              "    }\n",
              "<\/style>\n",
              "<table border=\"1\" class=\"dataframe\">\n",
              "  <thead>\n",
              "    <tr style=\"text-align: right;\">\n",
              "      <th><\/th>\n",
              "      <th>tpsa<\/th>\n",
              "      <th>saacc<\/th>\n",
              "      <th>h-050<\/th>\n",
              "      <th>mlogp<\/th>\n",
              "      <th>rdchi<\/th>\n",
              "      <th>gats1p<\/th>\n",
              "    <\/tr>\n",
              "  <\/thead>\n",
              "  <tbody>\n",
              "    <tr>\n",
              "      <th>0<\/th>\n",
              "      <td>0.514570<\/td>\n",
              "      <td>0.411306<\/td>\n",
              "      <td>0.000000<\/td>\n",
              "      <td>0.019635<\/td>\n",
              "      <td>-1.875809<\/td>\n",
              "      <td>-0.955340<\/td>\n",
              "    <\/tr>\n",
              "    <tr>\n",
              "      <th>1<\/th>\n",
              "      <td>0.514570<\/td>\n",
              "      <td>0.411306<\/td>\n",
              "      <td>0.000000<\/td>\n",
              "      <td>0.159062<\/td>\n",
              "      <td>-1.554684<\/td>\n",
              "      <td>-1.066755<\/td>\n",
              "    <\/tr>\n",
              "    <tr>\n",
              "      <th>2<\/th>\n",
              "      <td>0.123412<\/td>\n",
              "      <td>0.107901<\/td>\n",
              "      <td>0.000000<\/td>\n",
              "      <td>1.745911<\/td>\n",
              "      <td>0.652219<\/td>\n",
              "      <td>-1.568754<\/td>\n",
              "    <\/tr>\n",
              "    <tr>\n",
              "      <th>3<\/th>\n",
              "      <td>0.123412<\/td>\n",
              "      <td>0.107901<\/td>\n",
              "      <td>0.000000<\/td>\n",
              "      <td>1.598251<\/td>\n",
              "      <td>0.599535<\/td>\n",
              "      <td>-1.535789<\/td>\n",
              "    <\/tr>\n",
              "    <tr>\n",
              "      <th>4<\/th>\n",
              "      <td>0.123412<\/td>\n",
              "      <td>0.107901<\/td>\n",
              "      <td>0.000000<\/td>\n",
              "      <td>0.954059<\/td>\n",
              "      <td>0.439081<\/td>\n",
              "      <td>-0.868297<\/td>\n",
              "    <\/tr>\n",
              "    <tr>\n",
              "      <th>5<\/th>\n",
              "      <td>1.000000<\/td>\n",
              "      <td>1.000000<\/td>\n",
              "      <td>0.375897<\/td>\n",
              "      <td>-2.248683<\/td>\n",
              "      <td>2.363947<\/td>\n",
              "      <td>0.778006<\/td>\n",
              "    <\/tr>\n",
              "    <tr>\n",
              "      <th>6<\/th>\n",
              "      <td>0.123412<\/td>\n",
              "      <td>0.107901<\/td>\n",
              "      <td>0.000000<\/td>\n",
              "      <td>0.211611<\/td>\n",
              "      <td>-0.134453<\/td>\n",
              "      <td>0.392174<\/td>\n",
              "    <\/tr>\n",
              "    <tr>\n",
              "      <th>7<\/th>\n",
              "      <td>0.514570<\/td>\n",
              "      <td>0.411306<\/td>\n",
              "      <td>0.000000<\/td>\n",
              "      <td>0.530092<\/td>\n",
              "      <td>-0.138569<\/td>\n",
              "      <td>-0.110742<\/td>\n",
              "    <\/tr>\n",
              "    <tr>\n",
              "      <th>8<\/th>\n",
              "      <td>0.514570<\/td>\n",
              "      <td>0.411306<\/td>\n",
              "      <td>0.000000<\/td>\n",
              "      <td>-0.218431<\/td>\n",
              "      <td>-0.894383<\/td>\n",
              "      <td>0.590631<\/td>\n",
              "    <\/tr>\n",
              "    <tr>\n",
              "      <th>9<\/th>\n",
              "      <td>0.514570<\/td>\n",
              "      <td>0.411306<\/td>\n",
              "      <td>0.000000<\/td>\n",
              "      <td>0.225688<\/td>\n",
              "      <td>-1.105498<\/td>\n",
              "      <td>0.925043<\/td>\n",
              "    <\/tr>\n",
              "  <\/tbody>\n",
              "<\/table>\n",
              "<\/div>"
            ]
          },
          "metadata":{
            
          },
          "output_type":"display_data"
        }
      ],
      "metadata":{
        
      }
    },
    {
      "cell_type":"code",
      "source":[
        "data = water_dataset['nn']\n",
        "plt.hist(data, bins = 50)\n",
        "plt.show()"
      ],
      "execution_count":29,
      "outputs":[
        {
          "data":{
            "image\/png":"[encoded data removed]"
          },
          "metadata":{
            "image\/png":{
              "width":0,
              "height":0
            }
          },
          "output_type":"display_data"
        }
      ],
      "metadata":{
        
      }
    },
    {
      "cell_type":"code",
      "source":[
        "data = np.clip(data, 0, 6)\n",
        "plt.hist(data, bins = 50)\n",
        "plt.show()"
      ],
      "execution_count":30,
      "outputs":[
        {
          "data":{
            "image\/png":"[encoded data removed]"
          },
          "metadata":{
            "image\/png":{
              "width":0,
              "height":0
            }
          },
          "output_type":"display_data"
        }
      ],
      "metadata":{
        
      }
    },
    {
      "cell_type":"code",
      "source":[
        "plt.hist(data ** 0.5, bins = 50)\n",
        "plt.show()\n",
        "plt.hist(np.log(data), bins = 50)\n",
        "plt.show()"
      ],
      "execution_count":31,
      "outputs":[
        {
          "data":{
            "image\/png":"[encoded data removed]"
          },
          "metadata":{
            "image\/png":{
              "width":0,
              "height":0
            }
          },
          "output_type":"display_data"
        }
      ],
      "metadata":{
        
      }
    },
    {
      "cell_type":"code",
      "source":[
        "data = np.array(data**0.5).reshape(-1, 1)\n",
        "dataset['nn'] = MinMaxScaler().fit_transform(data).flatten() \n",
        "dataset.head(10)"
      ],
      "execution_count":32,
      "outputs":[
        {
          "data":{
            "text\/html":[
              "<div>\n",
              "<style scoped>\n",
              "    .dataframe tbody tr th:only-of-type {\n",
              "        vertical-align: middle;\n",
              "    }\n",
              "\n",
              "    .dataframe tbody tr th {\n",
              "        vertical-align: top;\n",
              "    }\n",
              "\n",
              "    .dataframe thead th {\n",
              "        text-align: right;\n",
              "    }\n",
              "<\/style>\n",
              "<table border=\"1\" class=\"dataframe\">\n",
              "  <thead>\n",
              "    <tr style=\"text-align: right;\">\n",
              "      <th><\/th>\n",
              "      <th>tpsa<\/th>\n",
              "      <th>saacc<\/th>\n",
              "      <th>h-050<\/th>\n",
              "      <th>mlogp<\/th>\n",
              "      <th>rdchi<\/th>\n",
              "      <th>gats1p<\/th>\n",
              "      <th>nn<\/th>\n",
              "    <\/tr>\n",
              "  <\/thead>\n",
              "  <tbody>\n",
              "    <tr>\n",
              "      <th>0<\/th>\n",
              "      <td>0.514570<\/td>\n",
              "      <td>0.411306<\/td>\n",
              "      <td>0.000000<\/td>\n",
              "      <td>0.019635<\/td>\n",
              "      <td>-1.875809<\/td>\n",
              "      <td>-0.955340<\/td>\n",
              "      <td>0.001262<\/td>\n",
              "    <\/tr>\n",
              "    <tr>\n",
              "      <th>1<\/th>\n",
              "      <td>0.514570<\/td>\n",
              "      <td>0.411306<\/td>\n",
              "      <td>0.000000<\/td>\n",
              "      <td>0.159062<\/td>\n",
              "      <td>-1.554684<\/td>\n",
              "      <td>-1.066755<\/td>\n",
              "      <td>0.001262<\/td>\n",
              "    <\/tr>\n",
              "    <tr>\n",
              "      <th>2<\/th>\n",
              "      <td>0.123412<\/td>\n",
              "      <td>0.107901<\/td>\n",
              "      <td>0.000000<\/td>\n",
              "      <td>1.745911<\/td>\n",
              "      <td>0.652219<\/td>\n",
              "      <td>-1.568754<\/td>\n",
              "      <td>0.001262<\/td>\n",
              "    <\/tr>\n",
              "    <tr>\n",
              "      <th>3<\/th>\n",
              "      <td>0.123412<\/td>\n",
              "      <td>0.107901<\/td>\n",
              "      <td>0.000000<\/td>\n",
              "      <td>1.598251<\/td>\n",
              "      <td>0.599535<\/td>\n",
              "      <td>-1.535789<\/td>\n",
              "      <td>0.001262<\/td>\n",
              "    <\/tr>\n",
              "    <tr>\n",
              "      <th>4<\/th>\n",
              "      <td>0.123412<\/td>\n",
              "      <td>0.107901<\/td>\n",
              "      <td>0.000000<\/td>\n",
              "      <td>0.954059<\/td>\n",
              "      <td>0.439081<\/td>\n",
              "      <td>-0.868297<\/td>\n",
              "      <td>0.001262<\/td>\n",
              "    <\/tr>\n",
              "    <tr>\n",
              "      <th>5<\/th>\n",
              "      <td>1.000000<\/td>\n",
              "      <td>1.000000<\/td>\n",
              "      <td>0.375897<\/td>\n",
              "      <td>-2.248683<\/td>\n",
              "      <td>2.363947<\/td>\n",
              "      <td>0.778006<\/td>\n",
              "      <td>0.001262<\/td>\n",
              "    <\/tr>\n",
              "    <tr>\n",
              "      <th>6<\/th>\n",
              "      <td>0.123412<\/td>\n",
              "      <td>0.107901<\/td>\n",
              "      <td>0.000000<\/td>\n",
              "      <td>0.211611<\/td>\n",
              "      <td>-0.134453<\/td>\n",
              "      <td>0.392174<\/td>\n",
              "      <td>0.001262<\/td>\n",
              "    <\/tr>\n",
              "    <tr>\n",
              "      <th>7<\/th>\n",
              "      <td>0.514570<\/td>\n",
              "      <td>0.411306<\/td>\n",
              "      <td>0.000000<\/td>\n",
              "      <td>0.530092<\/td>\n",
              "      <td>-0.138569<\/td>\n",
              "      <td>-0.110742<\/td>\n",
              "      <td>0.001262<\/td>\n",
              "    <\/tr>\n",
              "    <tr>\n",
              "      <th>8<\/th>\n",
              "      <td>0.514570<\/td>\n",
              "      <td>0.411306<\/td>\n",
              "      <td>0.000000<\/td>\n",
              "      <td>-0.218431<\/td>\n",
              "      <td>-0.894383<\/td>\n",
              "      <td>0.590631<\/td>\n",
              "      <td>0.001262<\/td>\n",
              "    <\/tr>\n",
              "    <tr>\n",
              "      <th>9<\/th>\n",
              "      <td>0.514570<\/td>\n",
              "      <td>0.411306<\/td>\n",
              "      <td>0.000000<\/td>\n",
              "      <td>0.225688<\/td>\n",
              "      <td>-1.105498<\/td>\n",
              "      <td>0.925043<\/td>\n",
              "      <td>0.001262<\/td>\n",
              "    <\/tr>\n",
              "  <\/tbody>\n",
              "<\/table>\n",
              "<\/div>"
            ]
          },
          "metadata":{
            
          },
          "output_type":"display_data"
        }
      ],
      "metadata":{
        
      }
    },
    {
      "cell_type":"code",
      "source":[
        "data = water_dataset['c-040']\n",
        "plt.hist(data, bins = 50)\n",
        "plt.show()"
      ],
      "execution_count":33,
      "outputs":[
        {
          "data":{
            "image\/png":"[encoded data removed]"
          },
          "metadata":{
            "image\/png":{
              "width":0,
              "height":0
            }
          },
          "output_type":"display_data"
        }
      ],
      "metadata":{
        
      }
    },
    {
      "cell_type":"code",
      "source":[
        "data = np.clip(data, 0, 5)\n",
        "plt.hist(data, bins = 50)\n",
        "plt.show()"
      ],
      "execution_count":34,
      "outputs":[
        {
          "data":{
            "image\/png":"[encoded data removed]"
          },
          "metadata":{
            "image\/png":{
              "width":0,
              "height":0
            }
          },
          "output_type":"display_data"
        }
      ],
      "metadata":{
        
      }
    },
    {
      "cell_type":"code",
      "source":[
        "plt.hist(data ** 0.5, bins = 50)\n",
        "plt.show()"
      ],
      "execution_count":35,
      "outputs":[
        {
          "data":{
            "image\/png":"[encoded data removed]"
          },
          "metadata":{
            "image\/png":{
              "width":0,
              "height":0
            }
          },
          "output_type":"display_data"
        }
      ],
      "metadata":{
        
      }
    },
    {
      "cell_type":"code",
      "source":[
        "data = np.array(data**0.5).reshape(-1, 1)\n",
        "dataset['c-040'] = MinMaxScaler().fit_transform(data).flatten() \n",
        "dataset.head(10)"
      ],
      "execution_count":36,
      "outputs":[
        {
          "data":{
            "text\/html":[
              "<div>\n",
              "<style scoped>\n",
              "    .dataframe tbody tr th:only-of-type {\n",
              "        vertical-align: middle;\n",
              "    }\n",
              "\n",
              "    .dataframe tbody tr th {\n",
              "        vertical-align: top;\n",
              "    }\n",
              "\n",
              "    .dataframe thead th {\n",
              "        text-align: right;\n",
              "    }\n",
              "<\/style>\n",
              "<table border=\"1\" class=\"dataframe\">\n",
              "  <thead>\n",
              "    <tr style=\"text-align: right;\">\n",
              "      <th><\/th>\n",
              "      <th>tpsa<\/th>\n",
              "      <th>saacc<\/th>\n",
              "      <th>h-050<\/th>\n",
              "      <th>mlogp<\/th>\n",
              "      <th>rdchi<\/th>\n",
              "      <th>gats1p<\/th>\n",
              "      <th>nn<\/th>\n",
              "      <th>c-040<\/th>\n",
              "    <\/tr>\n",
              "  <\/thead>\n",
              "  <tbody>\n",
              "    <tr>\n",
              "      <th>0<\/th>\n",
              "      <td>0.514570<\/td>\n",
              "      <td>0.411306<\/td>\n",
              "      <td>0.000000<\/td>\n",
              "      <td>0.019635<\/td>\n",
              "      <td>-1.875809<\/td>\n",
              "      <td>-0.955340<\/td>\n",
              "      <td>0.001262<\/td>\n",
              "      <td>0.00000<\/td>\n",
              "    <\/tr>\n",
              "    <tr>\n",
              "      <th>1<\/th>\n",
              "      <td>0.514570<\/td>\n",
              "      <td>0.411306<\/td>\n",
              "      <td>0.000000<\/td>\n",
              "      <td>0.159062<\/td>\n",
              "      <td>-1.554684<\/td>\n",
              "      <td>-1.066755<\/td>\n",
              "      <td>0.001262<\/td>\n",
              "      <td>0.00000<\/td>\n",
              "    <\/tr>\n",
              "    <tr>\n",
              "      <th>2<\/th>\n",
              "      <td>0.123412<\/td>\n",
              "      <td>0.107901<\/td>\n",
              "      <td>0.000000<\/td>\n",
              "      <td>1.745911<\/td>\n",
              "      <td>0.652219<\/td>\n",
              "      <td>-1.568754<\/td>\n",
              "      <td>0.001262<\/td>\n",
              "      <td>0.00000<\/td>\n",
              "    <\/tr>\n",
              "    <tr>\n",
              "      <th>3<\/th>\n",
              "      <td>0.123412<\/td>\n",
              "      <td>0.107901<\/td>\n",
              "      <td>0.000000<\/td>\n",
              "      <td>1.598251<\/td>\n",
              "      <td>0.599535<\/td>\n",
              "      <td>-1.535789<\/td>\n",
              "      <td>0.001262<\/td>\n",
              "      <td>0.00000<\/td>\n",
              "    <\/tr>\n",
              "    <tr>\n",
              "      <th>4<\/th>\n",
              "      <td>0.123412<\/td>\n",
              "      <td>0.107901<\/td>\n",
              "      <td>0.000000<\/td>\n",
              "      <td>0.954059<\/td>\n",
              "      <td>0.439081<\/td>\n",
              "      <td>-0.868297<\/td>\n",
              "      <td>0.001262<\/td>\n",
              "      <td>0.00000<\/td>\n",
              "    <\/tr>\n",
              "    <tr>\n",
              "      <th>5<\/th>\n",
              "      <td>1.000000<\/td>\n",
              "      <td>1.000000<\/td>\n",
              "      <td>0.375897<\/td>\n",
              "      <td>-2.248683<\/td>\n",
              "      <td>2.363947<\/td>\n",
              "      <td>0.778006<\/td>\n",
              "      <td>0.001262<\/td>\n",
              "      <td>0.85619<\/td>\n",
              "    <\/tr>\n",
              "    <tr>\n",
              "      <th>6<\/th>\n",
              "      <td>0.123412<\/td>\n",
              "      <td>0.107901<\/td>\n",
              "      <td>0.000000<\/td>\n",
              "      <td>0.211611<\/td>\n",
              "      <td>-0.134453<\/td>\n",
              "      <td>0.392174<\/td>\n",
              "      <td>0.001262<\/td>\n",
              "      <td>0.00000<\/td>\n",
              "    <\/tr>\n",
              "    <tr>\n",
              "      <th>7<\/th>\n",
              "      <td>0.514570<\/td>\n",
              "      <td>0.411306<\/td>\n",
              "      <td>0.000000<\/td>\n",
              "      <td>0.530092<\/td>\n",
              "      <td>-0.138569<\/td>\n",
              "      <td>-0.110742<\/td>\n",
              "      <td>0.001262<\/td>\n",
              "      <td>0.00000<\/td>\n",
              "    <\/tr>\n",
              "    <tr>\n",
              "      <th>8<\/th>\n",
              "      <td>0.514570<\/td>\n",
              "      <td>0.411306<\/td>\n",
              "      <td>0.000000<\/td>\n",
              "      <td>-0.218431<\/td>\n",
              "      <td>-0.894383<\/td>\n",
              "      <td>0.590631<\/td>\n",
              "      <td>0.001262<\/td>\n",
              "      <td>0.00000<\/td>\n",
              "    <\/tr>\n",
              "    <tr>\n",
              "      <th>9<\/th>\n",
              "      <td>0.514570<\/td>\n",
              "      <td>0.411306<\/td>\n",
              "      <td>0.000000<\/td>\n",
              "      <td>0.225688<\/td>\n",
              "      <td>-1.105498<\/td>\n",
              "      <td>0.925043<\/td>\n",
              "      <td>0.001262<\/td>\n",
              "      <td>0.00000<\/td>\n",
              "    <\/tr>\n",
              "  <\/tbody>\n",
              "<\/table>\n",
              "<\/div>"
            ]
          },
          "metadata":{
            
          },
          "output_type":"display_data"
        }
      ],
      "metadata":{
        
      }
    },
    {
      "cell_type":"code",
      "source":[
        "data = water_dataset['lc50']\n",
        "plt.hist(data, bins = 50)\n",
        "plt.show()"
      ],
      "execution_count":37,
      "outputs":[
        {
          "data":{
            "image\/png":"[encoded data removed]"
          },
          "metadata":{
            "image\/png":{
              "width":0,
              "height":0
            }
          },
          "output_type":"display_data"
        }
      ],
      "metadata":{
        
      }
    },
    {
      "cell_type":"code",
      "source":[
        "data = np.clip(data, 0, 9)\n",
        "plt.hist(data, bins = 50)\n",
        "plt.show()"
      ],
      "execution_count":38,
      "outputs":[
        {
          "data":{
            "image\/png":"[encoded data removed]"
          },
          "metadata":{
            "image\/png":{
              "width":0,
              "height":0
            }
          },
          "output_type":"display_data"
        }
      ],
      "metadata":{
        
      }
    },
    {
      "cell_type":"code",
      "source":[
        "plt.hist(data ** 0.5, bins = 50)\n",
        "plt.show()\n",
        "plt.hist(np.log(data), bins = 50)\n",
        "plt.show()"
      ],
      "execution_count":39,
      "outputs":[
        {
          "data":{
            "image\/png":"[encoded data removed]"
          },
          "metadata":{
            "image\/png":{
              "width":0,
              "height":0
            }
          },
          "output_type":"display_data"
        }
      ],
      "metadata":{
        
      }
    },
    {
      "cell_type":"code",
      "source":[
        "data = np.array(data**0.5).reshape(-1, 1)\n",
        "dataset['lc50'] = StandardScaler().fit_transform(data).flatten() \n",
        "dataset.head(10)"
      ],
      "execution_count":40,
      "outputs":[
        {
          "data":{
            "text\/html":[
              "<div>\n",
              "<style scoped>\n",
              "    .dataframe tbody tr th:only-of-type {\n",
              "        vertical-align: middle;\n",
              "    }\n",
              "\n",
              "    .dataframe tbody tr th {\n",
              "        vertical-align: top;\n",
              "    }\n",
              "\n",
              "    .dataframe thead th {\n",
              "        text-align: right;\n",
              "    }\n",
              "<\/style>\n",
              "<table border=\"1\" class=\"dataframe\">\n",
              "  <thead>\n",
              "    <tr style=\"text-align: right;\">\n",
              "      <th><\/th>\n",
              "      <th>tpsa<\/th>\n",
              "      <th>saacc<\/th>\n",
              "      <th>h-050<\/th>\n",
              "      <th>mlogp<\/th>\n",
              "      <th>rdchi<\/th>\n",
              "      <th>gats1p<\/th>\n",
              "      <th>nn<\/th>\n",
              "      <th>c-040<\/th>\n",
              "      <th>lc50<\/th>\n",
              "    <\/tr>\n",
              "  <\/thead>\n",
              "  <tbody>\n",
              "    <tr>\n",
              "      <th>0<\/th>\n",
              "      <td>0.514570<\/td>\n",
              "      <td>0.411306<\/td>\n",
              "      <td>0.000000<\/td>\n",
              "      <td>0.019635<\/td>\n",
              "      <td>-1.875809<\/td>\n",
              "      <td>-0.955340<\/td>\n",
              "      <td>0.001262<\/td>\n",
              "      <td>0.00000<\/td>\n",
              "      <td>-0.455071<\/td>\n",
              "    <\/tr>\n",
              "    <tr>\n",
              "      <th>1<\/th>\n",
              "      <td>0.514570<\/td>\n",
              "      <td>0.411306<\/td>\n",
              "      <td>0.000000<\/td>\n",
              "      <td>0.159062<\/td>\n",
              "      <td>-1.554684<\/td>\n",
              "      <td>-1.066755<\/td>\n",
              "      <td>0.001262<\/td>\n",
              "      <td>0.00000<\/td>\n",
              "      <td>-0.093061<\/td>\n",
              "    <\/tr>\n",
              "    <tr>\n",
              "      <th>2<\/th>\n",
              "      <td>0.123412<\/td>\n",
              "      <td>0.107901<\/td>\n",
              "      <td>0.000000<\/td>\n",
              "      <td>1.745911<\/td>\n",
              "      <td>0.652219<\/td>\n",
              "      <td>-1.568754<\/td>\n",
              "      <td>0.001262<\/td>\n",
              "      <td>0.00000<\/td>\n",
              "      <td>1.307301<\/td>\n",
              "    <\/tr>\n",
              "    <tr>\n",
              "      <th>3<\/th>\n",
              "      <td>0.123412<\/td>\n",
              "      <td>0.107901<\/td>\n",
              "      <td>0.000000<\/td>\n",
              "      <td>1.598251<\/td>\n",
              "      <td>0.599535<\/td>\n",
              "      <td>-1.535789<\/td>\n",
              "      <td>0.001262<\/td>\n",
              "      <td>0.00000<\/td>\n",
              "      <td>1.168207<\/td>\n",
              "    <\/tr>\n",
              "    <tr>\n",
              "      <th>4<\/th>\n",
              "      <td>0.123412<\/td>\n",
              "      <td>0.107901<\/td>\n",
              "      <td>0.000000<\/td>\n",
              "      <td>0.954059<\/td>\n",
              "      <td>0.439081<\/td>\n",
              "      <td>-0.868297<\/td>\n",
              "      <td>0.001262<\/td>\n",
              "      <td>0.00000<\/td>\n",
              "      <td>0.804428<\/td>\n",
              "    <\/tr>\n",
              "    <tr>\n",
              "      <th>5<\/th>\n",
              "      <td>1.000000<\/td>\n",
              "      <td>1.000000<\/td>\n",
              "      <td>0.375897<\/td>\n",
              "      <td>-2.248683<\/td>\n",
              "      <td>2.363947<\/td>\n",
              "      <td>0.778006<\/td>\n",
              "      <td>0.001262<\/td>\n",
              "      <td>0.85619<\/td>\n",
              "      <td>0.847093<\/td>\n",
              "    <\/tr>\n",
              "    <tr>\n",
              "      <th>6<\/th>\n",
              "      <td>0.123412<\/td>\n",
              "      <td>0.107901<\/td>\n",
              "      <td>0.000000<\/td>\n",
              "      <td>0.211611<\/td>\n",
              "      <td>-0.134453<\/td>\n",
              "      <td>0.392174<\/td>\n",
              "      <td>0.001262<\/td>\n",
              "      <td>0.00000<\/td>\n",
              "      <td>1.453502<\/td>\n",
              "    <\/tr>\n",
              "    <tr>\n",
              "      <th>7<\/th>\n",
              "      <td>0.514570<\/td>\n",
              "      <td>0.411306<\/td>\n",
              "      <td>0.000000<\/td>\n",
              "      <td>0.530092<\/td>\n",
              "      <td>-0.138569<\/td>\n",
              "      <td>-0.110742<\/td>\n",
              "      <td>0.001262<\/td>\n",
              "      <td>0.00000<\/td>\n",
              "      <td>-0.231058<\/td>\n",
              "    <\/tr>\n",
              "    <tr>\n",
              "      <th>8<\/th>\n",
              "      <td>0.514570<\/td>\n",
              "      <td>0.411306<\/td>\n",
              "      <td>0.000000<\/td>\n",
              "      <td>-0.218431<\/td>\n",
              "      <td>-0.894383<\/td>\n",
              "      <td>0.590631<\/td>\n",
              "      <td>0.001262<\/td>\n",
              "      <td>0.00000<\/td>\n",
              "      <td>-0.328732<\/td>\n",
              "    <\/tr>\n",
              "    <tr>\n",
              "      <th>9<\/th>\n",
              "      <td>0.514570<\/td>\n",
              "      <td>0.411306<\/td>\n",
              "      <td>0.000000<\/td>\n",
              "      <td>0.225688<\/td>\n",
              "      <td>-1.105498<\/td>\n",
              "      <td>0.925043<\/td>\n",
              "      <td>0.001262<\/td>\n",
              "      <td>0.00000<\/td>\n",
              "      <td>-0.411327<\/td>\n",
              "    <\/tr>\n",
              "  <\/tbody>\n",
              "<\/table>\n",
              "<\/div>"
            ]
          },
          "metadata":{
            
          },
          "output_type":"display_data"
        }
      ],
      "metadata":{
        
      }
    },
    {
      "cell_type":"code",
      "source":[
        "dataset.to_csv('prepared_data.csv', index=False)"
      ],
      "execution_count":41,
      "outputs":[
        
      ],
      "metadata":{
        
      }
    }
  ],
  "metadata":{
    
  },
  "nbformat":4,
  "nbformat_minor":0
}